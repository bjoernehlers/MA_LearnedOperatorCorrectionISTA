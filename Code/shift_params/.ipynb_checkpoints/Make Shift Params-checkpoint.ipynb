{
 "cells": [
  {
   "cell_type": "code",
   "execution_count": 1,
   "metadata": {},
   "outputs": [],
   "source": [
    "import numpy as np\n",
    "from util import check_path\n",
    " \n",
    "shift_params = np.array([\n",
    "    [[0.15,1000,0],[0.15,1000,0]]\n",
    "    ])\n",
    "path = \"\"#\"shift_params/\"\n",
    "check_path(path)\n",
    "np.save(file = path+\"strong_u_v_shift.npy\", arr = shift_params)"
   ]
  },
  {
   "cell_type": "code",
   "execution_count": null,
   "metadata": {},
   "outputs": [],
   "source": [
    "import numpy as np\n",
    "from util import check_path\n",
    " \n",
    "shift_params = np.array([\n",
    "    [[0.01,1000,0],[0.01,1000,0]],\n",
    "    [[0.001,2000,0],[0.05,1000,2]],\n",
    "    [[0.001,3000,7],[0.01,2000,0]],\n",
    "    [[0.001,4000,0],[0.01,500,0]],\n",
    "    [[0.001,5000,5],[0.001,2000,3]],\n",
    "    [[0.001,6000,0],[0.0001,500,0]],\n",
    "    [[0.001,7000,0],[0.01,5000,0]],\n",
    "    ])\n",
    "path = \"\"#\"shift_params/\"\n",
    "check_path(path)\n",
    "np.save(file = path+\"7_u_v_shift_2.npy\", arr = shift_params)"
   ]
  },
  {
   "cell_type": "code",
   "execution_count": 1,
   "metadata": {},
   "outputs": [],
   "source": [
    "import numpy as np\n",
    "from util import check_path\n",
    " \n",
    "shift_params_list = []\n",
    "shift_params_list.append(np.array([[[0.12,1000,0],[0.1,1000,0]]]))\n",
    "shift_params_list.append(np.array([[[0.1,2000,0],[0.5,1000,2]]]))\n",
    "shift_params_list.append(np.array([[[0.1,3000,7],[0.1,2000,0]]]))\n",
    "shift_params_list.append(np.array([[[0.15,4000,0],[0.1,500,0]]]))\n",
    "shift_params_list.append(np.array([[[0.12,5000,5],[0.1,2000,3]]]))\n",
    "shift_params_list.append(np.array([[[0.1,6000,0],[0.13,500,0]]]))\n",
    "shift_params_list.append(np.array([[[0.14,7000,0],[0.1,5000,0]]]))\n",
    "\n",
    "np.save(file = \"7_u_v_shift_list_strong.npy\", arr = shift_params_list)"
   ]
  },
  {
   "cell_type": "code",
   "execution_count": null,
   "metadata": {},
   "outputs": [],
   "source": []
  }
 ],
 "metadata": {
  "kernelspec": {
   "display_name": "Python 3 (ipykernel)",
   "language": "python",
   "name": "python3"
  },
  "language_info": {
   "codemirror_mode": {
    "name": "ipython",
    "version": 3
   },
   "file_extension": ".py",
   "mimetype": "text/x-python",
   "name": "python",
   "nbconvert_exporter": "python",
   "pygments_lexer": "ipython3",
   "version": "3.9.7"
  }
 },
 "nbformat": 4,
 "nbformat_minor": 4
}
