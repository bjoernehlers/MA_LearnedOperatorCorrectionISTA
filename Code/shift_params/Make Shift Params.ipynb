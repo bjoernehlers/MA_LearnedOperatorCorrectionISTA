{
 "cells": [
  {
   "cell_type": "code",
   "execution_count": 5,
   "metadata": {},
   "outputs": [],
   "source": [
    "import numpy as np\n",
    "from util import check_path\n",
    " \n",
    "shift_params = np.array([\n",
    "    [[0.02,1000,0],[0.02,1000,0]]\n",
    "    ])\n",
    "path = \"shift_params/\"\n",
    "check_path(path)\n",
    "np.save(file = path+\"2p_u_v_shift.npy\", arr = shift_params)"
   ]
  },
  {
   "cell_type": "code",
   "execution_count": 2,
   "metadata": {},
   "outputs": [],
   "source": [
    "import numpy as np\n",
    "from util import check_path\n",
    " \n",
    "shift_params = np.array([[\n",
    "    [[0.01,1000,0],[0.01,1000,0]],\n",
    "    [[0.001,2000,0],[0.05,1000,2]],\n",
    "    [[0.001,3000,7],[0.01,2000,0]],\n",
    "    [[0.001,4000,0],[0.01,500,0]],\n",
    "    [[0.001,5000,5],[0.001,2000,3]],\n",
    "    [[0.001,6000,0],[0.0001,500,0]],\n",
    "    [[0.001,7000,0],[0.01,5000,0]],\n",
    "    ]])\n",
    "path = \"shift_params/\"\n",
    "check_path(path)\n",
    "np.save(file = path+\"Test.npy\", arr = shift_params)"
   ]
  },
  {
   "cell_type": "code",
   "execution_count": 2,
   "metadata": {},
   "outputs": [],
   "source": [
    "import numpy as np\n",
    "# from util import check_path\n",
    " \n",
    "shift_params_list = []\n",
    "shift_params_list.append(np.array([[[0.03,1000,0],[0.02,1000,0]]]))\n",
    "shift_params_list.append(np.array([[[0.01,2000,0],[0.03,1000,2]]]))\n",
    "shift_params_list.append(np.array([[[0.02,3000,7],[0.3,2000,0]]]))\n",
    "shift_params_list.append(np.array([[[0.02,4000,0],[0.025,500,0]]]))\n",
    "shift_params_list.append(np.array([[[0.03,5000,5],[0.03,2000,3]]]))\n",
    "# shift_params_list.append(np.array([[[0.1,6000,0],[0.13,500,0]]]))\n",
    "# shift_params_list.append(np.array([[[0.14,7000,0],[0.1,5000,0]]]))\n",
    "\n",
    "np.save(file = \"shift_params/5_u_v_shift_list_3p.npy\", arr = shift_params_list)"
   ]
  },
  {
   "cell_type": "code",
   "execution_count": null,
   "metadata": {},
   "outputs": [],
   "source": []
  }
 ],
 "metadata": {
  "kernelspec": {
   "display_name": "Python 3 (ipykernel)",
   "language": "python",
   "name": "python3"
  },
  "language_info": {
   "codemirror_mode": {
    "name": "ipython",
    "version": 3
   },
   "file_extension": ".py",
   "mimetype": "text/x-python",
   "name": "python",
   "nbconvert_exporter": "python",
   "pygments_lexer": "ipython3",
   "version": "3.9.7"
  }
 },
 "nbformat": 4,
 "nbformat_minor": 4
}
