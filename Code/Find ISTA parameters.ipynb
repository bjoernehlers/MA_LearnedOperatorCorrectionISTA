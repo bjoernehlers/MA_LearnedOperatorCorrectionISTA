{
 "cells": [
  {
   "cell_type": "markdown",
   "metadata": {},
   "source": [
    "notebook for finding suteble $\\mu$ and $\\lambda$ for the greadien descent method"
   ]
  },
  {
   "cell_type": "code",
   "execution_count": null,
   "metadata": {},
   "outputs": [],
   "source": [
    "import numpy as np\n",
    "import torch\n",
    "import matplotlib.pyplot as plt\n",
    "import odl\n",
    "from odl.contrib import torch as odl_torch\n",
    "# from oppppppGet_Ray_Trafo import get_ray_trafo\n",
    "from ray_transforms import get_ray_trafo\n",
    "from util import hide_axis,Timer\n",
    "#from data_set_functions_swaped import get_initial_dataset,append_dataset,get_adj_dataset,get_xis,get_x0s,defs_multiple_RTs, defs_list \n",
    "from test_model_functions_swaped import get_net_corected_operator\n",
    "from scipy import sparse\n",
    "from util import get_op,sparse_Mat,plots,error_for_y\n"
   ]
  },
  {
   "cell_type": "code",
   "execution_count": null,
   "metadata": {},
   "outputs": [],
   "source": [
    "def im_norm(x):\n",
    "    if type(x) is odl.discr.discr_space.DiscretizedSpaceElement:\n",
    "        x= x.asarray()\n",
    "    x = x.reshape(x.size)\n",
    "    return np.linalg.norm(x,2)\n",
    "# Training    \n",
    "pps = 64\n",
    "x_res = pps\n",
    "y_res = pps\n",
    "n_ang = 256\n",
    "n_dtp = 96#248\n",
    "impl = 'astra_cpu'\n",
    "static_ray_trafo = get_ray_trafo(x_res,y_res,n_ang,n_dtp,detector_len=2,impl=impl)\n",
    "\n",
    "\n",
    "grad_R=None\n",
    "shift_params =  (np.array([[[0.03,5000,0],[0.03,5000,0]]]))#np.load(\"shift_params/strong_u_v_shift.npy\")#\n",
    "# grad_R = odl.solvers.L2Norm(static_ray_trafo.domain).gradient\n",
    "def get_shift(shift_params):\n",
    "    def shift(angle):\n",
    "        for i in range(shift_params.shape[0]):\n",
    "            u_shift = shift_params[i,0,0]*np.sin(shift_params[i,0,1]*angle+shift_params[i,0,2])\n",
    "            v_shift = shift_params[i,1,0]*np.sin(shift_params[i,1,1]*angle+shift_params[i,1,2])\n",
    "        return np.array([u_shift,v_shift]).T\n",
    "    return shift\n",
    "def rand_shift(angle):\n",
    "    u_shift = 0*angle+0.1*(np.random.rand()-0.5)\n",
    "    v_shift = 0*angle+0.1*(np.random.rand()-0.5)\n",
    "\n",
    "shift = get_shift(shift_params)\n",
    "ray_trafo = get_ray_trafo(x_res,y_res,n_ang,n_dtp,DET_SHIFT = shift,detector_len=2,impl=impl)\n",
    "# ray_trafo = get_ray_trafo(x_res,y_res,n_ang,n_dtp,shift_params=shift_params,detector_len=2,impl=impl)\n",
    "\n",
    "A_s = sparse_Mat(ray_trafo,x_res,y_res,n_ang,n_dtp)\n",
    "# A_s = sparse.load_npz('Matritzen/64_64_256_96_1_u_and_v_shift/u_v_ray_trafo_0.npz')\n",
    "true_op = get_op(A_s,x_res,y_res,n_ang,n_dtp)\n",
    "ray_trafos=[true_op]\n",
    "\n",
    "# A_static_s=sparse.load_npz('Matritzen/64_64_256_96_static.npz')\n",
    "A_static_s = sparse_Mat(static_ray_trafo,x_res,y_res,n_ang,n_dtp)\n",
    "static_op = get_op(A_static_s,x_res,y_res,n_ang,n_dtp)\n",
    "op_norm2 = np.linalg.norm(A_static_s.todense(),2)**-2\n",
    "\n",
    "# true_op = ray_trafo\n",
    "# ray_trafos=[ray_trafo]\n",
    "# static_op = static_ray_trafo\n",
    "# op_norm2 = ray_trafo.norm('estimate')**2"
   ]
  },
  {
   "cell_type": "code",
   "execution_count": null,
   "metadata": {},
   "outputs": [],
   "source": [
    "shift_params"
   ]
  },
  {
   "cell_type": "code",
   "execution_count": null,
   "metadata": {},
   "outputs": [],
   "source": [
    "# sparse.save_npz('64_64_256_96_2_u_v_shift.npz',A_s)\n",
    "# sparse.save_npz('64_64_256_96_static.npz',A_static_s)"
   ]
  },
  {
   "cell_type": "code",
   "execution_count": null,
   "metadata": {},
   "outputs": [],
   "source": [
    "lam = 0.0001\n",
    "mu = 0.0001\n",
    "num_phant = 1\n",
    "num_phant_rand = 0\n",
    "e_p = 0.01\n",
    "val_defs = defs_list()\n",
    "tp = np.load('phantoms/'+f'test_phantoms_{pps}_1.npy')\n",
    "# defs_multiple_RTs(val_defs, np.load('phantoms/'+f'validation_phantoms_{pps}_10.npy'), ray_trafos,\n",
    "#                   static_op, mu , lam, grad_R,num_phant,num_phant_rand,e_p = e_p, x_0 = None ) #,x_0=np.zeros((pps,pps))\n",
    "\n",
    "defs_multiple_RTs(val_defs,tp, ray_trafos,\n",
    "                  static_op, mu , lam, grad_R,num_phant,num_phant_rand,e_p = e_p, x_0 = None ) #,x_0=np.zeros((pps,pps))\n",
    "\n",
    "\n",
    "num_iterations = 20\n",
    "# device = 'cuda'\n",
    "# adj_swaped = True\n",
    "# fw_swaped = True"
   ]
  },
  {
   "cell_type": "code",
   "execution_count": null,
   "metadata": {},
   "outputs": [],
   "source": [
    "class ISTA():\n",
    "    def __init__(self,mu,lam,y,fw_op,adj_op):\n",
    "        self.mu = mu\n",
    "        self.lam = lam\n",
    "        self.y = y\n",
    "        self.fw_op = fw_op\n",
    "        self.adj_op = adj_op\n",
    "    \n",
    "    def soft_shrink(self,x,alpha): \n",
    "        return np.sign(x) * np.maximum(np.abs(x)-alpha,0)\n",
    "\n",
    "    def get_impl(self,x):\n",
    "        r = self.fw_op(x) - self.y\n",
    "        F_abl = self.adj_op(r)\n",
    "        if type(F_abl) is not np.ndarray:\n",
    "            F_abl = F_abl.asarray()\n",
    "        x = self.soft_shrink(x-self.mu/self.lam * F_abl, self.mu)\n",
    "        # x = np.maximum(x,0)\n",
    "        return x"
   ]
  },
  {
   "cell_type": "code",
   "execution_count": null,
   "metadata": {},
   "outputs": [],
   "source": [
    "lookup = val_defs.lookup\n",
    "x0_id = lookup.index('x_0')\n",
    "ye_id = lookup.index('y_e')\n",
    "mu_id = lookup.index('mu')\n",
    "lam_id = lookup.index('lambda')\n",
    "p_idx = lookup.index('phantom')\n",
    "\n",
    "d = val_defs[0]\n",
    "p = d[p_idx]\n",
    "x_0 = d[x0_id] # error_for_y(p,0.1)\n",
    "y_e = d[ye_id]\n",
    "mu = 0.0004#0.0001#d[mu_id]\n",
    "lam = 0.001#0.001 #d[lam_id]\n",
    "x = x_0\n",
    "op = true_op\n",
    "\n",
    "\n",
    "\n",
    "lam = lam#/op_norm2\n",
    "mu = min(mu,op_norm2)\n",
    "ISTA_step = ISTA(mu,lam,y_e,op,op.adjoint).get_impl\n",
    "ISTA_static_step = ISTA(mu,lam,y_e,static_op,static_op.adjoint).get_impl\n",
    "x_odl = x_0"
   ]
  },
  {
   "cell_type": "code",
   "execution_count": null,
   "metadata": {},
   "outputs": [],
   "source": [
    "mu,lam"
   ]
  },
  {
   "cell_type": "code",
   "execution_count": null,
   "metadata": {},
   "outputs": [],
   "source": [
    "x = x_0\n",
    "x_static = x_0\n",
    "loss = list()\n",
    "loss_static = list()\n",
    "num_iter = 1000\n",
    "for i in range(num_iter):\n",
    "    x_old = x\n",
    "    x = ISTA_step(x)\n",
    "    x_static = ISTA_static_step(x_static)\n",
    "    loss.append(np.linalg.norm((x-p).reshape(p.size))/p.size)\n",
    "    loss_static.append(np.linalg.norm((x_static-p).reshape(p.size))/p.size)\n",
    "    # fig,ax =plt.subplots()\n",
    "    # ax.imshow(x)\n",
    "    # plt.show(fig)\n",
    "    if im_norm(x-x_old)<10**-4:\n",
    "        break\n",
    "\n",
    "fig,ax =plt.subplots()\n",
    "ax.plot(loss)\n",
    "ax.plot(loss_static)\n",
    "ax.set_yscale('log')\n",
    "plt.show(fig)"
   ]
  },
  {
   "cell_type": "code",
   "execution_count": null,
   "metadata": {},
   "outputs": [],
   "source": [
    "fig,ax = plots(1,2,4/3)\n",
    "ax[0].imshow(x,vmin=0,vmax=1)\n",
    "ax[0].set_title('reconstruction')\n",
    "im = ax[1].imshow(p,vmin=0,vmax=1)  \n",
    "ax[1].set_title('original')\n",
    "fig.set_label = f'{num_iter} iterations,mu:{mu} lam:{lam}' \n",
    "hide_axis(fig)\n",
    "fig.colorbar(im, ax=ax)\n",
    "fig.set_dpi(300)\n",
    "plt.show(fig)"
   ]
  },
  {
   "cell_type": "code",
   "execution_count": null,
   "metadata": {},
   "outputs": [],
   "source": [
    "plt.imshow(x_static)"
   ]
  },
  {
   "cell_type": "code",
   "execution_count": null,
   "metadata": {},
   "outputs": [],
   "source": [
    "fig,ax = plt.subplots()\n",
    "im = ax.imshow(p-x)          \n",
    "\n",
    "hide_axis(fig)\n",
    "fig.colorbar(im, ax=ax)\n",
    "\n",
    "fig.set_dpi(300)\n",
    "plt.show(fig)"
   ]
  },
  {
   "cell_type": "code",
   "execution_count": null,
   "metadata": {},
   "outputs": [],
   "source": [
    "op_norm2"
   ]
  },
  {
   "cell_type": "code",
   "execution_count": null,
   "metadata": {},
   "outputs": [],
   "source": [
    "lookup = val_defs.lookup\n",
    "x0_id = lookup.index('x_0')\n",
    "ye_id = lookup.index('y_e')\n",
    "mu_id = lookup.index('mu')\n",
    "lam_id = lookup.index('lambda')\n",
    "p_idx = lookup.index('phantom')\n",
    "\n",
    "d = val_defs[0]\n",
    "p = d[p_idx]\n",
    "x_0 = d[x0_id]\n",
    "y_e = d[ye_id]\n",
    "tracker = [np.inf,0,0]\n",
    "op = static_op\n",
    "num_iter = 500\n",
    "j = 0\n",
    "num_points = 20\n",
    "loss_mat = np.zeros((num_points,num_points))\n",
    "for mu in np.logspace(-3,-5,num_points):\n",
    "        \n",
    "        k = 0\n",
    "        for lam in np.logspace(-2,-4,num_points):\n",
    "                \n",
    "                x = x_0\n",
    "                lam = lam*op_norm2\n",
    "                ISTA_step = ISTA(mu,lam,y_e,op,op.adjoint).get_impl\n",
    "                for i in range(num_iter):\n",
    "                        x = ISTA_step(x)\n",
    "                loss = (np.linalg.norm((x-p).reshape(p.size))/p.size)\n",
    "                loss_mat[j,k] = loss\n",
    "                k = k+1\n",
    "                if tracker[0]>loss:\n",
    "                        tracker = [loss,mu,lam]\n",
    "                        print(f'{100*j/num_points:0}% | {tracker}',end=\"\\r\")\n",
    "        j = j+1\n",
    "        print(f'{100*j/num_points:0}% | {tracker}',end=\"\\r\")\n",
    "\n",
    "\n",
    "                "
   ]
  },
  {
   "cell_type": "code",
   "execution_count": null,
   "metadata": {},
   "outputs": [],
   "source": [
    "plt.imshow(loss_mat,vmax=0.002)\n",
    "plt.colorbar()"
   ]
  }
 ],
 "metadata": {
  "kernelspec": {
   "display_name": "Python 3 (ipykernel)",
   "language": "python",
   "name": "python3"
  },
  "language_info": {
   "codemirror_mode": {
    "name": "ipython",
    "version": 3
   },
   "file_extension": ".py",
   "mimetype": "text/x-python",
   "name": "python",
   "nbconvert_exporter": "python",
   "pygments_lexer": "ipython3",
   "version": "3.10.4"
  },
  "vscode": {
   "interpreter": {
    "hash": "88a9da9d68497d7f521781f00a73fecd7a3c53060cd82ab5fb1b1b3aae3c56d0"
   }
  }
 },
 "nbformat": 4,
 "nbformat_minor": 2
}
